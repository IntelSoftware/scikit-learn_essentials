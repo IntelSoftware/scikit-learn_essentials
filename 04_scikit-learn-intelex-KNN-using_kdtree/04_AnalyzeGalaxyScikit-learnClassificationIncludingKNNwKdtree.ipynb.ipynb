{
 "cells": [
  {
   "cell_type": "markdown",
   "metadata": {
    "tags": []
   },
   "source": [
    "# Classify Stars in Colliding Galaxies\n",
    "\n",
    "Using ~5000 labeled stars out of ~80,000 in each galaxy (170,000 stars total), make a model to predict and/or classify all the stars in the collection of the galaxy collision.\n",
    "\n",
    "![KNN Classifier results for colliding galaxies](Assets/KNNPredictionResult.png \"Classifying Stars in Colliding Galaxies\")\n",
    "\n",
    "\n",
    "As an optional assignment: \n",
    "- Find all neighboring pairs of points in two approaching galaxies.\n",
    "\n",
    "Follow the creation of two synthetically created star locations in Euclidean coordinates. The galaxies are set to collide with each other. Techniques described are an approach to classifying which stars belong to which galaxy after the collision. We also later identify the coordinates of pairs of points that lie within a radius R of each other. Points already lying with radius R in either galaxy are ignored, and the focus is narrowed to points in one galaxy in close proximity to the points in the other galaxy.\n",
    "\n",
    "We synthesize ~ 80,000 stars in each of two galaxies—a fictitious GFFA (\"galaxy far, far away\") and a fictitious \"Xeno\", which is the backdrop for Superman's Krypton. Combined, this is over 100,000 stars, for which we search for neighboring pairs on the order of a few light years apart.\n",
    "\n",
    "Play the following video which plots and rotates the combined galaxies. It plots a 3D scatter plot of the nearly 200,000 stars in the two galaxies. It gradually reduces the opacity of each star to ultimately reveal the one or two or handfuls of stars that are within a given radius of each other as a result of the collision of the two galaxies. The center bulge in each galaxy is so dense that the red zone stars are not visible until we turn the opacity of the stars down significantly.\n",
    "\n",
    "\n",
    "<video controls src=\"Videos/CollidingGalaxiesAnimation.mp4\" />\n",
    "\n"
   ]
  },
  {
   "cell_type": "markdown",
   "metadata": {},
   "source": [
    "\n",
    "# Learning Objectives:\n",
    " \n",
    "1. Apply Multiple Classification Algorithms with GPU to classify stars belonging to each galaxy.\n",
    "1. Apply Intel® Extension for Scikit-learn* patch and SYCL context to compute on available GPU resource.\n",
    "1. **Optional**: Use KDtree, also known as k-d tree, to find all stars interacting within a given radius (say two light years) due to the collision of two galaxies.\n",
    "\n",
    "\n",
    "## Library Dependencies:\n",
    "\n",
    " - **pip install pickle**\n",
    " - also requires these libraries if they are not already installed: **matplotlib, numpy, pandas, time, sklearn**\n",
    " \n",
    "To synthesized the galaxy data uses a parametric equations described in the following paper [A New Formula Describing the Scaffold Structure of Spiral Galaxies](https://arxiv.org/ftp/arxiv/papers/0908/0908.0892.pdf) regarding the parametric equation of arm: :\n",
    "\n",
    "\n",
    "$$ r \\left( \\phi \\right) = \\frac{A}{log(B \\  \\ tan(\\frac{\\phi}{2N}))  } $$\n",
    "\n",
    "The synthesizer used here, generates an arbitrary number of arms, generates a 3D gauassian distribution of stars around a galactic center, then distributes a gausian distribiutoin  of stars along the length of each arm. In addition, it generates an arbitrary number of \"globular clusters\" of stars accoring to a 3D gaussian distribution sprinkled out randomly along the arm curves.\n",
    "\n",
    "We also used rotation matrices  from this blog [3D Rotations and Euler angles in Python](https://www.meccanismocomplesso.org/en/3d-rotations-and-euler-angles-in-python/)\n",
    "\n",
    "\n",
    "### Fictitious Galaxies: \n",
    "\n",
    "We create two fictitious galaxies: GFFA (\"galaxy far, far away\") and Xeno (The purported galaxy for Superman's planet Krypton). We intersect the galaxies and use various classification algorithms to identify the stars in each galaxy.\n",
    "\n",
    "# k Nearest Neighbors\n",
    "\n",
    "kNN classification follows the general workflow described in the oneAPI Giyhub repository [Classification Usage Model](https://oneapi-src.github.io/oneDAL/daal/usage/training-and-prediction/classification.html#classification-usage-model).\n",
    "\n",
    "k-Nearest Neighbors (kNN) classification is a classification (or regression) algorithm. The model of the kNN classifier is based on feature vectors and class labels from the training data set. It uses distances between points as a key element for classifying similar points.\n",
    "\n",
    "# Random Forest\n",
    "\n",
    "Random forests or random decision forests are an ensemble learning method for classification, regression and other tasks that operates by constructing a multitude of decision trees at training time. For classification tasks, the output of the random forest is the class selected by most trees.\n"
   ]
  },
  {
   "cell_type": "markdown",
   "metadata": {},
   "source": [
    "# Creation of Galaxies"
   ]
  },
  {
   "cell_type": "markdown",
   "metadata": {},
   "source": [
    "\n"
   ]
  },
  {
   "cell_type": "code",
   "execution_count": null,
   "metadata": {
    "ExecuteTime": {
     "end_time": "2021-10-12T16:39:41.668402Z",
     "start_time": "2021-10-12T16:39:41.135065Z"
    }
   },
   "outputs": [],
   "source": [
    "import math as m\n",
    "import numpy as np\n",
    "import random\n",
    "import math as m\n",
    "import matplotlib.pyplot as plt\n",
    "def Rx(theta):\n",
    "    return np.matrix([[ 1, 0           , 0           ],\n",
    "                   [ 0, m.cos(theta),-m.sin(theta)],\n",
    "                   [ 0, m.sin(theta), m.cos(theta)]])\n",
    "  \n",
    "def Ry(theta):\n",
    "    return np.matrix([[ m.cos(theta), 0, m.sin(theta)],\n",
    "                   [ 0           , 1, 0           ],\n",
    "                   [-m.sin(theta), 0, m.cos(theta)]])\n",
    "  \n",
    "def Rz(theta):\n",
    "    return np.matrix([[ m.cos(theta), -m.sin(theta), 0 ],\n",
    "                   [ m.sin(theta), m.cos(theta) , 0 ],\n",
    "                   [ 0           , 0            , 1 ]])\n",
    "\n",
    "def ParametricPolar2Rectangular(r2, phi):\n",
    "    x = r2*np.cos(phi) #+.08 * random.normal(loc=0, scale=.68, size=(NBlue))\n",
    "    y = r2*np.sin(phi) #+.04 * random.normal(loc=0, scale=.34, size=(NBlue))\n",
    "    z = np.zeros(len(x))\n",
    "    return np.array([x,y,z]).T\n",
    "\n",
    "def R(phi, A, B, N, Phase=0.0):\n",
    "    return np.nan_to_num( A/np.log( B*np.tan(phi/(2.0*N))))\n",
    "\n",
    "def createGalaxyArms(phi, arms = 6, A = 1.0, B = .69, N = 5, Radius = 4.0e5, \n",
    "                     bandMaxWidth = 80, GlobRadius = 3.0e4,GlobNumber = 2000, GlobZSquish = .1):\n",
    "    rot = 360/arms\n",
    "    band = []\n",
    "    cumsum = list(np.cumsum(np.histogram(phi, bins = 10)[0]))\n",
    "    percent = (np.histogram(phi)[0] / sum(np.histogram(phi, bins = 10)[0]))\n",
    "    #print('cumsum ', cumsum)\n",
    "    #print('percent ', percent)   \n",
    "    L = len(percent)\n",
    "    # each band indicates the width and number of stars to put into an arm at each band lavel\n",
    "    # populate stars in a generic non locality specific way into each band\n",
    "    for j in range(L):\n",
    "        band.append(bandMaxWidth * (L-j)/100. * np.random.normal(loc=0, scale=1, size=( L-j,3)))\n",
    "    for i in range (arms):\n",
    "        # coompute location r, phi given this equation which is governed by paramater phi\n",
    "        # A, B, N control the shape and length of an arm\n",
    "        r2 = R(phi, A, B, N )\n",
    "        # StatCenterCartesian eapnads our little galaxy to a rough radius say in light years\n",
    "        StatCenterCartesian = Radius*ParametricPolar2Rectangular(r2, phi) \n",
    "        j = 0\n",
    "        # loop thru all known star center/ centroids in a single arm, create a grouping of stars at each centroid \n",
    "        for k in range(len(phi)):\n",
    "            # k ranges over the length of an arm\n",
    "            # in each range of values of k, a different size and population of stars will be generated\n",
    "            if k > cumsum[j]:\n",
    "                j += 1\n",
    "            Stars_onej = band[j].copy()\n",
    "            # set z coordinate to zero for now\n",
    "            Stars_onej[:,2] = 0\n",
    "            # add the StatCenterCartesian to each star in the band by stacking the array vertically\n",
    "            Stars_onej += StatCenterCartesian[k] # this needs work, this needs to be doen once per band not once per k\n",
    "            if k == 0:\n",
    "                Stars_oneArm = Stars_onej\n",
    "            else:\n",
    "                Stars_oneArm = np.vstack((Stars_oneArm,Stars_onej))\n",
    "            # at this point a single galaxy arm has been populated\n",
    "            # to get the other arms positions, we do a matrix rotation using Rz\n",
    "            \n",
    "        # add a few globular clusters randomly in each arm\n",
    "        N_GlobularClusters = 4\n",
    "        N_GlobularClusterStars = 100\n",
    "        R_GlobularCluster = 300\n",
    "        GlobularCLustersAtZero = R_GlobularCluster * np.random.normal(loc=0, scale=1, size=(N_GlobularClusterStars,3))\n",
    "        GlobCOffset = np.random.uniform(low = -5*R_GlobularCluster,  high= 5*R_GlobularCluster, size=(N_GlobularClusters,3))\n",
    "\n",
    "        phiGlobC = np.random.uniform(low= 0,  high= np.pi/2.0, size=(N_GlobularClusters,))\n",
    "        r3 = R(phiGlobC, A, B, N )\n",
    "        #print(ParametricPolar2Rectangular(r3, phiGlobC).shape, GlobCOffset.shape, GlobularCLustersAtZero.shape )\n",
    "        RGlobC = Radius * ParametricPolar2Rectangular(r3, phiGlobC) + GlobCOffset\n",
    "        GlobularCLustersAtR = []\n",
    "        for gc in range(N_GlobularClusters):\n",
    "            Stars_oneArm = np.vstack((np.array(Stars_oneArm), GlobularCLustersAtZero + RGlobC[gc]))\n",
    "        Stars_eachArm = np.vstack((np.array(Stars_oneArm*Rz(i*rot*np.pi/180.)), RGlobC))\n",
    "\n",
    "        \n",
    "        #print(Stars_eachArm.shape)\n",
    "        # keep rotations for StatCenterCartesian_eachArm as well\n",
    "        StatCenterCartesian_eachArm = np.array(StatCenterCartesian*Rz(i*rot*np.pi/180.))\n",
    "        # next we vertically stack all data for all arms into Stars_allArms\n",
    "        if i == 0:\n",
    "            Z_allArms = StatCenterCartesian_eachArm\n",
    "            Stars_allArms = Stars_eachArm\n",
    "        else:\n",
    "            Z_allArms = np.vstack((Z_allArms,StatCenterCartesian_eachArm)) \n",
    "            Stars_allArms = np.vstack((Stars_allArms,Stars_eachArm)) \n",
    "        # next create a glob of stars at center fo galaxy\n",
    "        CenterGlob = GlobRadius * np.random.normal(loc=0, scale=[1, 1, GlobZSquish], size=(GlobNumber,3))\n",
    "        # Put ALL galaxy stars into Stars\n",
    "        Stars = np.vstack((Stars_allArms , CenterGlob))\n",
    "    return Stars_allArms, CenterGlob, Stars\n",
    "\n",
    "def dist(p1, p2):\n",
    "    diff = p1 - p2\n",
    "    return np.sqrt(diff.dot(diff))\n",
    "\n",
    "def distInd(tooClose, index1, index2):\n",
    "    diff = tooClose[index1] - tooClose[index2]\n",
    "    return np.sqrt(diff.dot(diff))\n",
    "\n",
    "def unpack_sklearn_query_radii(Stars, neighbors, counts):\n",
    "    tooClose = []\n",
    "    for pair in neighbors[counts > 1]:\n",
    "        tooClose.append(Stars[pair[0]])\n",
    "        tooClose.append(Stars[pair[1]])\n",
    "    return np.array(tooClose)\n",
    "\n",
    "def write_dictionary(dictionary, fn):\n",
    "    import pickle\n",
    "    import os\n",
    "    here = './'\n",
    "    # Store data (serialize)\n",
    "    with open(os.path.join(here,fn), 'wb') as handle:\n",
    "        #pickle.dump(dictionary, handle, protocol=pickle.HIGHEST_PROTOCOL)\n",
    "        pickle.dump(dictionary, handle)\n",
    "    return\n",
    "\n",
    "def read_dictionary(fn):\n",
    "    import pickle\n",
    "    # Load data (deserialize)\n",
    "    with open(fn, 'rb') as handle:\n",
    "        dictionary = pickle.load(handle)\n",
    "    return dictionary\n",
    "\n",
    "def add(arr, myset):\n",
    "    for pt3D in arr:\n",
    "        mylist = []\n",
    "        for pt in pt3D:\n",
    "            mylist.append(round(pt,0))\n",
    "        if(tuple(mylist) not in myset):\n",
    "            myset.add(tuple(mylist))\n",
    "            \n",
    "#write_dictionary(collision, 'collision.pkl')\n",
    "#collision = read_dictionary('collision.pkl')\n",
    "GalaxyFromFile = True"
   ]
  },
  {
   "cell_type": "markdown",
   "metadata": {},
   "source": [
    "# Draw Randomly Generated stars for GFFA galaxy"
   ]
  },
  {
   "cell_type": "code",
   "execution_count": null,
   "metadata": {
    "ExecuteTime": {
     "end_time": "2021-10-12T16:39:41.698402Z",
     "start_time": "2021-10-12T16:39:41.671403Z"
    }
   },
   "outputs": [],
   "source": [
    "%matplotlib inline\n",
    "if GalaxyFromFile == False:\n",
    "    phi = np.abs(np.random.normal(loc=0, scale=.8, size=(600,1)))\n",
    "    phi =  phi[phi<np.pi/2.]\n",
    "    Arms, CenterGlob, Stars = createGalaxyArms(phi, arms = 5, Radius = 4.0e4, bandMaxWidth = 1.0e4, GlobRadius = 4e3, GlobNumber = 60000)\n",
    "\n",
    "    GFFA = dict()\n",
    "    GFFA['Arms'] = Arms.copy()\n",
    "    GFFA['CenterGlob'] = CenterGlob.copy()\n",
    "    GFFA['Stars'] = Stars.copy()\n",
    "    print(\"GFFA['Stars'][:,0]\", GFFA['Stars'].shape)\n",
    "\n",
    "    GFFA['CenterGlob'] = np.vstack((GFFA['CenterGlob'],np.array([101,100,0])))\n",
    "    GFFA['Stars'] = np.vstack((GFFA['Stars'],np.array([101,100,0])))\n",
    "\n",
    "    plt.style.use('dark_background')\n",
    "    plt.scatter(GFFA['Stars'][:,0], GFFA['Stars'][:,1], c = 'cyan', s = .1, alpha = .2)\n"
   ]
  },
  {
   "cell_type": "markdown",
   "metadata": {},
   "source": [
    "# Draw Generated Stars for GFFA in stored file"
   ]
  },
  {
   "cell_type": "code",
   "execution_count": null,
   "metadata": {
    "ExecuteTime": {
     "end_time": "2021-10-12T16:39:42.551324Z",
     "start_time": "2021-10-12T16:39:41.701406Z"
    }
   },
   "outputs": [],
   "source": [
    "if GalaxyFromFile:\n",
    "    GFFA = read_dictionary('GFFA.pkl')\n",
    "    plt.style.use('dark_background')\n",
    "    #plt.scatter(Arms[:,0], Arms[:,1], c='thistle', s = .1, alpha = 1)\n",
    "    #plt.scatter(CenterGlob[:,0], CenterGlob[:,1], c = 'indigo', s = .1, alpha = .7)\n",
    "    plt.grid()\n",
    "    plt.scatter(GFFA['Stars'][:,0], GFFA['Stars'][:,1], c = 'blue', s = .1, alpha = .2)\n",
    "    plt.style.use('dark_background')"
   ]
  },
  {
   "cell_type": "markdown",
   "metadata": {},
   "source": [
    "# Draw Randomly Generated Stars for XenoSupermanGalaxy"
   ]
  },
  {
   "cell_type": "code",
   "execution_count": null,
   "metadata": {
    "ExecuteTime": {
     "end_time": "2021-10-12T16:39:42.567285Z",
     "start_time": "2021-10-12T16:39:42.555287Z"
    }
   },
   "outputs": [],
   "source": [
    "if GalaxyFromFile ==  False:\n",
    "    phi = np.abs(np.random.normal(loc=0, scale=.8, size=(600,1)))\n",
    "    phi =  phi[phi<np.pi/2.]\n",
    "    Arms, CenterGlob, Stars = createGalaxyArms(phi, arms = 7, Radius = 6.0e4, bandMaxWidth = 1e4, GlobRadius = 5e3, GlobNumber = 60000)\n",
    "    XenoSupermanGalaxy = dict()\n",
    "    GalacticTranslationalOffset = [500,-200,100]\n",
    "    XenoSupermanGalaxy['Arms'] = (np.array(Arms * Rx(60)*Ry(45)) - GalacticTranslationalOffset).copy()\n",
    "    XenoSupermanGalaxy['CenterGlob'] = (np.array(CenterGlob * Rx(60) * Ry(45)) - GalacticTranslationalOffset).copy()\n",
    "    XenoSupermanGalaxy['Stars'] = (np.array(Stars * Rx(60) * Ry(45)) - GalacticTranslationalOffset).copy()\n",
    "\n",
    "    XenoSupermanGalaxy['CenterGlob'] = np.vstack((XenoSupermanGalaxy['CenterGlob'],np.array([100,100,0])))\n",
    "    XenoSupermanGalaxy['Stars'] = np.vstack((XenoSupermanGalaxy['Stars'],np.array([100,100,0])))\n",
    "\n",
    "    print(\"XenoSupermanGalaxy['Stars'].shape\", XenoSupermanGalaxy['Stars'].shape)\n",
    "\n",
    "    plt.scatter(XenoSupermanGalaxy['Stars'][:,0], XenoSupermanGalaxy['Stars'][:,1], c = 'violet', s = .1, alpha = .2)\n",
    "    plt.style.use('dark_background')"
   ]
  },
  {
   "cell_type": "markdown",
   "metadata": {},
   "source": [
    "# Draw Stars for XenoSupermanGalaxy in stored file"
   ]
  },
  {
   "cell_type": "code",
   "execution_count": null,
   "metadata": {
    "ExecuteTime": {
     "end_time": "2021-10-12T16:39:43.461141Z",
     "start_time": "2021-10-12T16:39:42.569806Z"
    }
   },
   "outputs": [],
   "source": [
    "if GalaxyFromFile:\n",
    "    XenoSupermanGalaxy = read_dictionary('XenoSupermanGalaxy.pkl')\n",
    "\n",
    "    plt.scatter(XenoSupermanGalaxy['Stars'][:,0], XenoSupermanGalaxy['Stars'][:,1], c = 'r', s = .1, alpha = .2)\n",
    "    plt.style.use('dark_background')"
   ]
  },
  {
   "cell_type": "markdown",
   "metadata": {},
   "source": [
    "# Create Superset of GFFA and XenoSupermanGalaxy\n",
    "\n",
    "To track all tooClose stars"
   ]
  },
  {
   "cell_type": "code",
   "execution_count": null,
   "metadata": {
    "ExecuteTime": {
     "end_time": "2021-10-12T16:39:43.492707Z",
     "start_time": "2021-10-12T16:39:43.463143Z"
    }
   },
   "outputs": [],
   "source": [
    "collision = dict()\n",
    "collision['Arms'] = np.vstack((GFFA['Arms'].copy(), XenoSupermanGalaxy['Arms'].copy()))\n",
    "collision['CenterGlob'] = np.vstack((GFFA['CenterGlob'].copy(), XenoSupermanGalaxy['CenterGlob'].copy()))\n",
    "collision['Stars'] = np.vstack((GFFA['Stars'].copy(), XenoSupermanGalaxy['Stars'].copy()))\n",
    "collision['Stars'].shape"
   ]
  },
  {
   "cell_type": "markdown",
   "metadata": {},
   "source": [
    "# Train a kNN Classifier on a Small Subset of Stars From Each Galaxy"
   ]
  },
  {
   "cell_type": "code",
   "execution_count": null,
   "metadata": {
    "ExecuteTime": {
     "end_time": "2021-10-12T16:44:53.884174Z",
     "start_time": "2021-10-12T16:44:53.827694Z"
    }
   },
   "outputs": [],
   "source": [
    "from sklearnex import patch_sklearn, unpatch_sklearn\n",
    "patch_sklearn()\n",
    "\n",
    "from sklearn import datasets\n",
    "from sklearn import metrics\n",
    "from sklearn.neighbors import KNeighborsClassifier\n",
    "from sklearn.svm import SVC\n",
    "from sklearn.svm import NuSVC\n",
    "from sklearn.ensemble import RandomForestClassifier\n",
    "import numpy as np\n",
    "from random import sample\n",
    "from sklearn.neighbors import KDTree\n",
    "from sklearn.metrics import confusion_matrix\n",
    "from sklearn.metrics import recall_score\n",
    "from sklearn.metrics import precision_score\n",
    "from sklearn.metrics import roc_auc_score\n",
    "from sklearn.preprocessing import StandardScaler\n",
    "from sklearn.pipeline import make_pipeline\n",
    "from sklearn.model_selection import train_test_split\n",
    "\n",
    "# dataset is subset of stars from each galaxy\n",
    "TrainingSize = min(len(GFFA['Stars']), len(XenoSupermanGalaxy['Stars'] ) ) \n",
    "\n",
    "\n",
    "# get the index of the stars to use from XenoSupermanGalaxy\n",
    "XenoIndex = np.random.choice(len(XenoSupermanGalaxy['Stars']), TrainingSize, replace=False)\n",
    "# get the index of the stars to use from GFFAIndex\n",
    "GFFAIndex = np.random.choice(len(GFFA['Stars']), TrainingSize, replace=False)\n",
    "\n",
    "# create a list with a labelforeahc item in the combined training set\n",
    "# the first hald of the list indicates that class 0 will be for GFFA, 1 will be XenoSupermanGalaxy\n",
    "y = [0]*TrainingSize + [1]*TrainingSize\n",
    "# Stack the stars subset in same order as the labels, GFFA first, XenoSupermanGalaxy second\n",
    "trainGalaxy = np.vstack((GFFA['Stars'][GFFAIndex], XenoSupermanGalaxy['Stars'][XenoIndex]))  \n",
    "\n",
    "x_train, x_test, y_train, y_test = train_test_split(trainGalaxy, np.array(y), train_size=0.05)\n",
    "\n",
    "# fit a k-nearest neighbor model to the data\n",
    "K = 3\n",
    "model = KNeighborsClassifier(n_neighbors = K)\n",
    "model.fit(x_train, y_train)"
   ]
  },
  {
   "cell_type": "code",
   "execution_count": null,
   "metadata": {
    "ExecuteTime": {
     "end_time": "2021-10-12T16:44:54.731558Z",
     "start_time": "2021-10-12T16:44:54.720598Z"
    }
   },
   "outputs": [],
   "source": [
    " np.random.choice(len(XenoSupermanGalaxy['Stars']), TrainingSize, replace=False)"
   ]
  },
  {
   "cell_type": "markdown",
   "metadata": {},
   "source": [
    "<a id='Define-GPU-and-CPU-contexts-and-set-avilablity-variables'></a>\n",
    "\n",
    "# Define GPU and CPU Contexts and Set Avilablity Variables\n",
    "\n",
    "- _Code:_ [Back to Sections](#Sections)"
   ]
  },
  {
   "cell_type": "code",
   "execution_count": null,
   "metadata": {},
   "outputs": [],
   "source": [
    "# determine if GPU available:\n",
    "gpu_available = False\n",
    "cpu_available = False\n",
    "dpctl_available = False\n",
    "try:\n",
    "    # modern approach for SYCL context is to use dpctl & sklearnex._config supported in \n",
    "    # Intel(R) Extension for Scikit-learn* 2021.4 \n",
    "    import dpctl\n",
    "    from sklearnex._config import config_context\n",
    "    dpctl_available = True\n",
    "except ImportError:\n",
    "    try:\n",
    "        # older approach for SYCL context is to use dall4py  \n",
    "        from daal4py.oneapi import sycl_context\n",
    "        print(\"*\" * 80)\n",
    "        print(\"\\ndpctl package not found, switched to daal4py package\\n\")\n",
    "        print(\"*\" * 80)\n",
    "    except ImportError:\n",
    "        print(\"\\nRequired packages not found, aborting...\\n\")\n",
    "        exit()\n",
    "\n",
    "gpu_available = False\n",
    "if not dpctl_available:\n",
    "    try:\n",
    "        with sycl_context('gpu'):\n",
    "            gpu_available = True\n",
    "            def get_context(device):\n",
    "                 return sycl_context(device)\n",
    "    except Exception:\n",
    "        gpu_available = False\n",
    "else:\n",
    "    try:\n",
    "        with config_context(target_offload='gpu'):\n",
    "            gpu_available = True\n",
    "            def get_context(device):\n",
    "                return config_context(target_offload='gpu')\n",
    "    except Exception:\n",
    "        gpu_available = False\n",
    "print('dpctl_available: ', dpctl_available)               \n",
    "print('gpu_available: ', gpu_available)\n",
    "print('cpu_available: ', cpu_available)\n"
   ]
  },
  {
   "cell_type": "markdown",
   "metadata": {},
   "source": [
    "# Use kNN Model to Classify Stars in Collision Dataset\n"
   ]
  },
  {
   "cell_type": "code",
   "execution_count": null,
   "metadata": {
    "ExecuteTime": {
     "end_time": "2021-10-12T16:44:57.039394Z",
     "start_time": "2021-10-12T16:44:56.544774Z"
    }
   },
   "outputs": [],
   "source": [
    "# make predictions\n",
    "import warnings\n",
    "from sklearn.exceptions import DataConversionWarning\n",
    "warnings.filterwarnings(action='ignore', category=DataConversionWarning)\n",
    "\n",
    "# assign the true labels for the collision data set, we know that collsions is stacked w GFFA first\n",
    "y_true = [0]*GFFA['Stars'].shape[0] + [1]*XenoSupermanGalaxy['Stars'].shape[0]\n",
    "# use the KNN model from before to predict all the stars contained in the combined collision dataset\n",
    "# It is possible to specify to make the computations on GPU\n",
    "if gpu_available:\n",
    "    with get_context('gpu'):\n",
    "        print('Running on GPU: ') \n",
    "        model.fit(x_train, y_train.ravel())\n",
    "        y_pred = model.predict(collision['Stars'])\n",
    "else:\n",
    "        print('Running on login: ') \n",
    "        model.fit(x_train, y_train.ravel())\n",
    "        y_pred = model.predict(collision['Stars'])    \n",
    "\n",
    "print('gpu_available: ',gpu_available)\n",
    "print('cpu_available: ',cpu_available)\n",
    "print('Display results of KNN classification')\n",
    "print('K',K)\n",
    "print('Training size: ', TrainingSize)\n",
    "print('GFFA results: predicted: {} Actual: {}'.format( y_pred[y_pred == 0].shape[0], GFFA['Stars'].shape[0]))\n",
    "print('XenoSupermanGalaxy results: predicted: {} Actual: {}'.format( y_pred[y_pred == 0].shape[0], XenoSupermanGalaxy['Stars'].shape[0]))\n",
    "print('Confusion Matrix: \\n',confusion_matrix(y_true, y_pred))\n",
    "print('recall: {:4.1f}'.format(100*recall_score(y_true, y_pred, average='binary')))\n",
    "print('precision: {:4.1f}'.format(100*precision_score(y_true, y_pred, average='binary')))\n",
    "\n",
    "GFFA_PredcitedIndex = np.where(y_pred == 0)[0] #get an index of GFFA predicted stars for plotting\n",
    "Xeno_PredcitedIndex = np.where(y_pred == 1)[0] #get an index of GFFA predicted stars for plotting"
   ]
  },
  {
   "cell_type": "markdown",
   "metadata": {},
   "source": [
    "# Plot Results of KNN Classification"
   ]
  },
  {
   "cell_type": "code",
   "execution_count": null,
   "metadata": {
    "ExecuteTime": {
     "end_time": "2021-10-12T16:51:35.674136Z",
     "start_time": "2021-10-12T16:51:35.261374Z"
    }
   },
   "outputs": [],
   "source": [
    "# Plot galaxy matplotlib\n",
    "%matplotlib inline\n",
    "# Import libraries\n",
    "from mpl_toolkits import mplot3d\n",
    "import numpy as np\n",
    "import matplotlib.pyplot as plt\n",
    " \n",
    "# Creating figure\n",
    "fig = plt.figure(figsize = (10, 10))\n",
    "ax = plt.axes(projection =\"3d\")\n",
    "\n",
    "ax.set_xticks([-20000, -10000, 0, 10000, 20000])\n",
    "ax.set_yticks([-20000, -10000, 0, 10000, 20000])\n",
    "ax.set_zticks([-20000, -10000, 0, 10000, 20000])\n",
    "\n",
    "# ax.axes.set_xlim3d(left=0.2, right=9.8) \n",
    "# ax.axes.set_ylim3d(bottom=0.2, top=9.8) \n",
    "#ax.axes.set_zlim3d(bottom=-5000, top=5000) \n",
    "\n",
    "GFFA_PredcitedIndex = np.where(y_pred == 0)[0] #get an index of GFFA predicted stars for plotting\n",
    "Xeno_PredcitedIndex = np.where(y_pred == 1)[0] #get an index of GFFA predicted stars for plotting\n",
    "\n",
    "# Creating plot\n",
    "ax.scatter(collision['Stars'][GFFA_PredcitedIndex,0], \n",
    "           collision['Stars'][GFFA_PredcitedIndex,1],\n",
    "           collision['Stars'][GFFA_PredcitedIndex,2], color = \"blue\", s = .2, alpha = .1)\n",
    "\n",
    "ax.scatter(collision['Stars'][Xeno_PredcitedIndex,0], \n",
    "           collision['Stars'][Xeno_PredcitedIndex,1],\n",
    "           collision['Stars'][Xeno_PredcitedIndex,2], color = \"red\", s = .2, alpha = .1)\n",
    "\n",
    "\n",
    "plt.title(\"Stars assigned to galaxys based on {} training examples\".format(TrainingSize))\n",
    "plt.style.use('dark_background')\n",
    "ax.w_xaxis.pane.fill = False\n",
    "ax.w_yaxis.pane.fill = False\n",
    "ax.w_zaxis.pane.fill = False\n",
    "\n",
    "# show plot\n",
    "plt.show()"
   ]
  },
  {
   "cell_type": "markdown",
   "metadata": {},
   "source": [
    "# Plot result of classification\n",
    "\n",
    "This time a static image of a previous run of the algorithm showing one galaxy edge on\n",
    "\n",
    "![galaxyRed_BlueEdge.png](Assets/galaxyRed_BlueEdge.png)\n",
    "\n",
    "\n",
    "# Try Multiple Classification Algorithms with GPU"
   ]
  },
  {
   "cell_type": "code",
   "execution_count": null,
   "metadata": {
    "ExecuteTime": {
     "end_time": "2021-10-12T16:40:03.787081Z",
     "start_time": "2021-10-12T16:39:54.624846Z"
    }
   },
   "outputs": [],
   "source": [
    "import time\n",
    "myModels = {'KNeighborsClassifier':KNeighborsClassifier(n_neighbors = K) , \n",
    "            'RandomForestClassifier': RandomForestClassifier(n_jobs=2, random_state=0) #,\n",
    "            #'SVC':SVC(gamma='auto'), \n",
    "            #'NuSVC':NuSVC(gamma='auto')\n",
    "           }\n",
    "\n",
    "for name, modelFunc in myModels.items():\n",
    "    start = time.time()\n",
    "    model = make_pipeline(StandardScaler(), modelFunc)\n",
    "    if gpu_available:\n",
    "        with get_context('gpu'):\n",
    "            model.fit(x_train, y_train.ravel())\n",
    "            y_pred = model.predict(x_test)\n",
    "    else:\n",
    "        model.fit(x_train, y_train)\n",
    "        y_pred = model.predict(x_test)  \n",
    "    print('gpu_available: ',gpu_available)\n",
    "    print('cpu_available: ',cpu_available)           \n",
    "    print('Display results of {} classification'.format(name))\n",
    "    print('K: ',K)\n",
    "    print('Training size: ', TrainingSize)\n",
    "    print('Confusion Matrix: \\n',confusion_matrix(y_test, y_pred))\n",
    "    print('recall: {:4.1f}'.format(100*recall_score(y_test, y_pred, average='binary')))\n",
    "    print('precision: {:4.1f}'.format(100*precision_score(y_test, y_pred, average='binary')))\n",
    "    print('roc_auc_score: {:4.1f} '.format(100*roc_auc_score(y_test, y_pred)))\n",
    "    GFFA_PredcitedIndex = np.where(y_test == 0) #get an index of GFFA predicted stars for plotting\n",
    "    Xeno_PredcitedIndex = np.where(y_test == 1) #get an index of GFFA predicted stars for plotting\n"
   ]
  },
  {
   "cell_type": "markdown",
   "metadata": {},
   "source": [
    "# Sweep Through Training Size Needed\n",
    "\n",
    "Camp on a single model and sweep TrainingSize as a variable. \n",
    "\n",
    "We try muliple models and multiple training size values to determine which comboination of models and training size yield optimimum Receiver Operator Characteristic (ROC) scores"
   ]
  },
  {
   "cell_type": "code",
   "execution_count": null,
   "metadata": {
    "ExecuteTime": {
     "end_time": "2021-10-12T16:42:14.065001Z",
     "start_time": "2021-10-12T16:40:03.789900Z"
    }
   },
   "outputs": [],
   "source": [
    "import time\n",
    "myModels = {'KNeighborsClassifier':KNeighborsClassifier(n_neighbors = K) , \n",
    "            'RandomForestClassifier': RandomForestClassifier(n_jobs=2, random_state=0), \n",
    "            #'SVC':SVC(gamma='auto'), \n",
    "           }\n",
    "TrainingSize = [.001, .01,  .1, .2,  .8]\n",
    "bestScore = {}\n",
    "hi = 0\n",
    "for tsz in TrainingSize:\n",
    "    for name, modelFunc in myModels.items():\n",
    "        x_train, x_test, y_train, y_test = train_test_split(trainGalaxy, np.array(y), train_size=tsz)\n",
    "        K = 3\n",
    "\n",
    "        start = time.time()\n",
    "        model = modelFunc\n",
    "        if gpu_available:\n",
    "            with get_context('gpu'):\n",
    "                print('Running on gpu')\n",
    "                model.fit(x_train, y_train.ravel())\n",
    "                y_pred = model.predict(x_test)\n",
    "        else:\n",
    "            print('Running on login')\n",
    "            model.fit(x_train, y_train)\n",
    "            y_pred = model.predict(x_test) \n",
    "\n",
    "        print('Display results of {} classification'.format(name))\n",
    "        print('  K: ',K)\n",
    "        print('  Training size: ', tsz)\n",
    "        roc = roc_auc_score(y_test, y_pred)\n",
    "        print('  roc_auc_score: {:4.1f}'.format(100*roc))\n",
    "        print('  Time: {:5.1f} sec\\n'.format( time.time() - start))\n",
    "        if roc > hi:\n",
    "            hi = roc\n",
    "            bestScore = {'name': name,\n",
    "                    'roc':roc, \n",
    "                    'trainingSize':tsz, \n",
    "                    'confusionMatrix': confusion_matrix(y_test, y_pred), \n",
    "                    'precision': 100*precision_score(y_test, y_pred, average='binary'),\n",
    "                    'recall': recall_score(y_test, y_pred, average='binary') }\n",
    "print('bestScore: name', bestScore['name'])\n",
    "print('bestScore: confusion Matrix', bestScore['confusionMatrix'])\n",
    "print('bestScore: precision', bestScore['precision'])\n",
    "print('bestScore: recall', bestScore['recall'])\n",
    "print('bestScore: roc', bestScore['roc'])"
   ]
  },
  {
   "cell_type": "code",
   "execution_count": null,
   "metadata": {
    "ExecuteTime": {
     "end_time": "2021-10-12T16:42:14.102550Z",
     "start_time": "2021-10-12T16:42:14.066849Z"
    }
   },
   "outputs": [],
   "source": [
    "confusion_matrix(y_test, y_pred)"
   ]
  },
  {
   "cell_type": "markdown",
   "metadata": {},
   "source": [
    "# Optional: Use KDtree to Find All Points Within Radius R\n",
    "\n",
    "This is not directly optimized by Intel at this point but is used under the hood by Intel's kNN which is optimized.\n",
    "\n",
    "Because we are dealing with a fairly large number of points (more than a few thousand) let's explore the inherent data structure used by the KNN under the hood - k-d tree to see how quickly we can find pairs of points within radius R of each other.\n",
    "\n",
    "This mechanism is very efficient and KDtree algorithms have this estimate of computation and space complexity.\n",
    "[Wikipedia k-d tree](https://en.wikipedia.org/wiki/K-d_tree):\n",
    "\n",
    "![Complexity](Assets/KDTREE_Complexity.png)\n",
    "\n",
    "Following this, we find the all nearly colliding stars (here we will say stars within three light years from each other). This could answer the question: **Did these galaxies result in more \"tooClose\" encounters after the collision?**\n",
    "\n"
   ]
  },
  {
   "cell_type": "code",
   "execution_count": null,
   "metadata": {
    "ExecuteTime": {
     "end_time": "2021-10-12T16:42:17.521077Z",
     "start_time": "2021-10-12T16:42:14.104512Z"
    }
   },
   "outputs": [],
   "source": [
    "%%time\n",
    "Radius = 3\n",
    "\n",
    "tree = KDTree(GFFA['Stars'], leaf_size = 42)              \n",
    "neighbors = tree.query_radius(GFFA['Stars'],  Radius) \n",
    "counts = tree.query_radius(GFFA['Stars'],  Radius, count_only = 1)\n",
    "GFFA['tooClose']  = unpack_sklearn_query_radii(GFFA['Stars'], neighbors, counts)\n",
    "\n",
    "tree = KDTree(XenoSupermanGalaxy['Stars'], leaf_size = 42)              \n",
    "neighbors = tree.query_radius(XenoSupermanGalaxy['Stars'],  Radius) \n",
    "counts = tree.query_radius(XenoSupermanGalaxy['Stars'],  Radius, count_only = 1)\n",
    "XenoSupermanGalaxy['tooClose']  = unpack_sklearn_query_radii(XenoSupermanGalaxy['Stars'], neighbors, counts)\n",
    "\n",
    "\n",
    "collision = dict()  \n",
    "collision['Arms'] = np.vstack((GFFA['Arms'].copy(), XenoSupermanGalaxy['Arms'].copy()))\n",
    "collision['CenterGlob'] = np.vstack((GFFA['CenterGlob'].copy(), XenoSupermanGalaxy['CenterGlob'].copy()))\n",
    "collision['Stars'] = np.vstack((GFFA['Stars'].copy(), XenoSupermanGalaxy['Stars'].copy())).copy()\n",
    "tree = KDTree(collision['Stars'], leaf_size = 42)  \n",
    "\n",
    "#kdtree  tree.query_radius\n",
    "\n",
    "neighbors = tree.query_radius(collision['Stars'],  Radius) \n",
    "counts = tree.query_radius(collision['Stars'],  Radius, count_only = 1)\n",
    "collision['tooClose']  = unpack_sklearn_query_radii(collision['Stars'], neighbors, counts)\n",
    "\n",
    "print(\"GFFA['Stars'].shape \", GFFA['Stars'].shape)\n",
    "print(\"XenoSupermanGalaxy['Stars'].shape \", XenoSupermanGalaxy['Stars'].shape)\n",
    "print(\"collision['Stars'].shape \", collision['Stars'].shape)\n",
    "\n",
    "print(\"\\nGFFA['tooClose'].shape \", GFFA['tooClose'].shape)\n",
    "print(\"XenoSupermanGalaxy['tooClose'].shape \", XenoSupermanGalaxy['tooClose'].shape)\n",
    "print(\"collision['tooClose'].shape \", collision['tooClose'].shape)"
   ]
  },
  {
   "cell_type": "markdown",
   "metadata": {},
   "source": [
    "# Find Glactic Collision Near Misses"
   ]
  },
  {
   "cell_type": "code",
   "execution_count": null,
   "metadata": {
    "ExecuteTime": {
     "end_time": "2021-10-12T16:42:18.606831Z",
     "start_time": "2021-10-12T16:42:17.522595Z"
    }
   },
   "outputs": [],
   "source": [
    "          \n",
    "GFFA['tooClose']\n",
    "GFFAset = set()           \n",
    "add(GFFA['tooClose'], GFFAset)\n",
    "print('GFFAset ', len(GFFAset))\n",
    "XenoSupermanGalaxy['tooClose']\n",
    "XenoSupermanGalaxyset = set()           \n",
    "add(XenoSupermanGalaxy['tooClose'], XenoSupermanGalaxyset)\n",
    "print('XenoSupermanGalaxyset ', len(XenoSupermanGalaxyset))\n",
    "\n",
    "collision['tooClose']\n",
    "collisionset = set()           \n",
    "add(collision['tooClose'], collisionset)\n",
    "print('collisionset ', len(collisionset))\n",
    "\n",
    "GFFAStarsSet = set()           \n",
    "add(GFFA['Stars'], GFFAStarsSet)\n",
    "\n",
    "XenoSupermanGalaxyStarsSet = set()           \n",
    "add(XenoSupermanGalaxy['Stars'], XenoSupermanGalaxyStarsSet)\n",
    "\n",
    "GalacticCollision = collisionset - XenoSupermanGalaxyset - GFFAset\n",
    "print( 'Galactic Collisions list of star locations where distance less than {} light years : {}'.format(Radius, GalacticCollision))"
   ]
  },
  {
   "cell_type": "markdown",
   "metadata": {},
   "source": [
    "# With the Aid of Python Sets We Find the Interacting Points\n",
    "\n",
    "Essentially, for each galaxy individually, we find all existing stars within three lights years within a single glaxay. Next find all stars within three light years in the combined galaxy. To find all stars in one galaxy that are within three light years of a star in a different galaxy perform the set difference as follows:\n",
    "\n",
    "**GalacticCollision = collisionset - XenoSupermanGalaxyset - GFFAset**\n",
    "\n",
    "The number of stars in near-collision state as a result of colliding galaxies (< 3 light years) consists of all stars three light years apart after we account for stars within each galaxy separelty that were already within three light years separation BEFORE collision.\n",
    "\n",
    "What remains are the stars in Xeno that are locally close to stars in GFFA. \n",
    "\n",
    "# Plot Star Positions in Red\n",
    "\n",
    "For those stars from one galaxy that are within three light years of a star in another galaxy"
   ]
  },
  {
   "cell_type": "code",
   "execution_count": null,
   "metadata": {
    "ExecuteTime": {
     "end_time": "2021-10-12T16:42:19.778696Z",
     "start_time": "2021-10-12T16:42:18.607849Z"
    },
    "scrolled": true,
    "tags": []
   },
   "outputs": [],
   "source": [
    "# # Plot galaxy matplotlib\n",
    "%matplotlib inline\n",
    "# Import libraries\n",
    "from mpl_toolkits import mplot3d\n",
    "import numpy as np\n",
    "import matplotlib.pyplot as plt\n",
    " \n",
    "# Creating figure\n",
    "fig = plt.figure(figsize = (10, 10))\n",
    "ax = plt.axes(projection =\"3d\")\n",
    "\n",
    "ax.set_xticks([-20000, -10000, 0, 10000, 20000])\n",
    "ax.set_yticks([-20000, -10000, 0, 10000, 20000])\n",
    "ax.set_zticks([-20000, -10000, 0, 10000, 20000])\n",
    "\n",
    "# ax.axes.set_xlim3d(left=0.2, right=9.8) \n",
    "# ax.axes.set_ylim3d(bottom=0.2, top=9.8) \n",
    "#ax.axes.set_zlim3d(bottom=-5000, top=5000) \n",
    "\n",
    "# Creating plot\n",
    "GalacticCollisionsNP = np.array(list(GalacticCollision))\n",
    "\n",
    "ax.scatter3D(GFFA['Stars'][::5,0], \n",
    "             GFFA['Stars'][::5,1], \n",
    "             GFFA['Stars'][::5,2], color = \"blue\", s = .2, alpha = 0)\n",
    "\n",
    "ax.scatter3D(XenoSupermanGalaxy['Stars'][::5,0], \n",
    "             XenoSupermanGalaxy['Stars'][::5,1], \n",
    "             XenoSupermanGalaxy['Stars'][::5,2], color = \"g\", s = .2, alpha = 0 )\n",
    "\n",
    "ax.scatter3D(GalacticCollisionsNP[:,0], \n",
    "             GalacticCollisionsNP[:,1], \n",
    "             GalacticCollisionsNP[:,2], color = \"r\", s = 50, alpha = 1)\n",
    "\n",
    "plt.title(\"Stars within {} light years\".format(Radius))\n",
    "plt.style.use('dark_background')\n",
    "ax.w_xaxis.pane.fill = False\n",
    "ax.w_yaxis.pane.fill = False\n",
    "ax.w_zaxis.pane.fill = False\n",
    "\n",
    "# show plot\n",
    "plt.show()"
   ]
  },
  {
   "cell_type": "markdown",
   "metadata": {
    "tags": []
   },
   "source": [
    "# Plot result of classification\n",
    "\n",
    "This time a static image of a previous run of the algorithm showing one galaxy edge on\n",
    "\n",
    "![galaxyRed_BlueEdge.png](Assets/galaxyRed_BlueEdge.png)\n",
    "\n",
    "# Notices & Disclaimers\n",
    "\n",
    "Intel technologies may require enabled hardware, software or service activation.\n",
    "\n",
    "No product or component can be absolutely secure.\n",
    "Your costs and results may vary.\n",
    "\n",
    "© Intel Corporation. Intel, the Intel logo, and other Intel marks are trademarks of Intel Corporation or its subsidiaries. \n",
    "*Other names and brands may be claimed as the property of others.\n"
   ]
  },
  {
   "cell_type": "code",
   "execution_count": null,
   "metadata": {},
   "outputs": [],
   "source": []
  },
  {
   "cell_type": "code",
   "execution_count": null,
   "metadata": {},
   "outputs": [],
   "source": []
  }
 ],
 "metadata": {
  "kernelspec": {
   "display_name": "Python 3.7 (Intel® oneAPI)",
   "language": "python",
   "name": "c009-intel_distribution_of_python_3_oneapi-beta05-python"
  },
  "language_info": {
   "codemirror_mode": {
    "name": "ipython",
    "version": 3
   },
   "file_extension": ".py",
   "mimetype": "text/x-python",
   "name": "python",
   "nbconvert_exporter": "python",
   "pygments_lexer": "ipython3",
   "version": "3.7.11"
  }
 },
 "nbformat": 4,
 "nbformat_minor": 4
}
