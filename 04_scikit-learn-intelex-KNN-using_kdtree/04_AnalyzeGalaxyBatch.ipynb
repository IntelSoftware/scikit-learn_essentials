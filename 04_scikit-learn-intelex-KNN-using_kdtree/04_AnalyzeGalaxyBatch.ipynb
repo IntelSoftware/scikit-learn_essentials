{
 "cells": [
  {
   "cell_type": "markdown",
   "id": "e7981e3e-ac87-4f4a-9956-13ae4de340ae",
   "metadata": {
    "tags": []
   },
   "source": [
    "# Classify Stars in Colliding Galaxies\n",
    "\n",
    "Using ~5000 labeled stars out of ~80,000 in each galaxy (170,000 stars total), make a model to predict and/or classify all the stars in the collection of the galaxy collision.\n",
    "\n",
    "![KNN Classifier results for colliding galaxies](Assets/KNNPredictionResult.png \"Classifying Stars in Colliding Galaxies\")\n",
    "\n",
    "\n",
    "As an optional assignment: \n",
    "- Find all neighboring pairs of points in two approaching galaxies.\n",
    "\n",
    "Follow the creation of two synthetically created star locations in Euclidean coordinates. The galaxies are set to collide with each other. Techniques described are an approach to classifying which stars belong to which galaxy after the collision. We also later identify the coordinates of pairs of points that lie within a radius R of each other. Points already lying with radius R in either galaxy are ignored, and the focus is narrowed to points in one galaxy in close proximity to the points in the other galaxy.\n",
    "\n",
    "We synthesize ~ 80,000 stars in each of two galaxies—a fictitious GFFA (\"galaxy far, far away\") and a fictitious \"Xeno\", which is the backdrop for Superman's Krypton. Combined, this is over 100,000 stars, for which we search for neighboring pairs on the order of a few light years apart.\n",
    "\n",
    "Play the following video which plots and rotates the combined galaxies. It plots a 3D scatter plot of the nearly 200,000 stars in the two galaxies. It gradually reduces the opacity of each star to ultimately reveal the one or two or handfuls of stars that are within a given radius of each other as a result of the collision of the two galaxies. The center bulge in each galaxy is so dense that the red zone stars are not visible until we turn the opacity of the stars down significantly.\n",
    "\n",
    "\n",
    "<video controls src=\"Videos/CollidingGalaxiesAnimation.mp4\" />\n"
   ]
  },
  {
   "cell_type": "markdown",
   "id": "86565629-cd41-4793-acdd-c50aca192cb8",
   "metadata": {},
   "source": [
    "\n",
    "# Learning Objectives:\n",
    " \n",
    "1. Apply Multiple Classification Algorithms with GPU to classify stars belonging to each galaxy within a combined super galaxy to determine most accurate model.\n",
    "1. Apply Intel® Extension for Scikit-learn* patch and SYCL context to compute on available GPU resource.\n",
    "1. **Optional**: Use KDtree, also known as k-d tree, to find all stars interacting within a given radius (say two light years) due to the collision of two galaxies - This has been moved to an separate optional notebook in the current folder.\n",
    "\n",
    "## Library Dependencies:\n",
    "\n",
    " - **pip install pickle**\n",
    " - also requires these libraries if they are not already installed: **matplotlib, numpy, pandas, time, sklearn**\n",
    " \n",
    "To synthesized the galaxy data uses a parametric equations described in the following paper [A New Formula Describing the Scaffold Structure of Spiral Galaxies](https://arxiv.org/ftp/arxiv/papers/0908/0908.0892.pdf) regarding the parametric equation of arm: :\n",
    "\n",
    "\n",
    "$$ r \\left( \\phi \\right) = \\frac{A}{log(B \\  \\ tan(\\frac{\\phi}{2N}))  } $$\n",
    "\n",
    "The synthesizer used here, generates an arbitrary number of arms, generates a 3D gauassian distribution of stars around a galactic center, then distributes a gausian distribiutoin  of stars along the length of each arm. In addition, it generates an arbitrary number of \"globular clusters\" of stars accoring to a 3D gaussian distribution sprinkled out randomly along the arm curves.\n",
    "\n",
    "We also used rotation matrices  from this blog [3D Rotations and Euler angles in Python](https://www.meccanismocomplesso.org/en/3d-rotations-and-euler-angles-in-python/)\n",
    "\n",
    "\n",
    "# Fictitious Galaxies: \n",
    "\n",
    "We create two fictitious galaxies: GFFA (\"galaxy far, far away\") and Xeno (The purported galaxy for Superman's planet Krypton). We intersect the galaxies and use various classification algorithms to identify the stars in each galaxy.\n",
    "\n",
    "# k Nearest Neighbors\n",
    "\n",
    "kNN classification follows the general workflow described in the oneAPI Giyhub repository [Classification Usage Model](https://oneapi-src.github.io/oneDAL/daal/usage/training-and-prediction/classification.html#classification-usage-model).\n",
    "\n",
    "k-Nearest Neighbors (kNN) classification is a classification (or regression) algorithm. The model of the kNN classifier is based on feature vectors and class labels from the training data set. It uses distances between points as a key element for classifying similar points.\n",
    "\n",
    "# Random Forest\n",
    "\n",
    "Random forests or random decision forests are an ensemble learning method for classification, regression and other tasks that operates by constructing a multitude of decision trees at training time. For classification tasks, the output of the random forest is the class selected by most trees.\n",
    "\n",
    "# Define GPU Context and Fit Multiple Sklearn Models Using GPU\n",
    "\n",
    "We try muliple models and multiple training size values to determine which comboination of models and training size yield optimimum Receiver Operator Characteristic (ROC) scores"
   ]
  },
  {
   "cell_type": "markdown",
   "id": "430bab17-8041-4a73-897a-8778877c36fb",
   "metadata": {},
   "source": [
    "# load and run 04_analyzeGalaxyBatch\n",
    "\n",
    "run the following load command in the next cell.\n",
    "\n",
    "%load 04_analyzeGalaxyBatch.py"
   ]
  },
  {
   "cell_type": "code",
   "execution_count": null,
   "id": "44724729-7af2-4fb5-a111-468cfba9ea6e",
   "metadata": {},
   "outputs": [],
   "source": [
    "%load 04_analyzeGalaxyBatch.py"
   ]
  },
  {
   "cell_type": "code",
   "execution_count": null,
   "id": "2d085cae-27b5-43dd-bde5-36be2d6f422c",
   "metadata": {},
   "outputs": [],
   "source": [
    "#!python 04_analyzeGalaxyBatch.py   # works on Windows\n",
    "! chmod 755 q; chmod 755 run_ModelCompare.sh; if [ -x \"$(command -v qsub)\" ]; then ./q run_ModelCompare.sh; else ./run_ModelCompare.sh; fi"
   ]
  },
  {
   "cell_type": "markdown",
   "id": "f7096eaa-f9f7-4e53-8ea0-e2c187fd341f",
   "metadata": {},
   "source": [
    "# Plot result of classification\n",
    "\n",
    "This time a static image of a previous run of the algorithm showing one galaxy edge on\n",
    "\n",
    "![galaxyRed_BlueEdge.png](Assets/galaxyRed_BlueEdge.png)\n",
    "\n",
    "\n",
    "# Notices & Disclaimers\n",
    "\n",
    "Intel technologies may require enabled hardware, software or service activation.\n",
    "\n",
    "No product or component can be absolutely secure.\n",
    "Your costs and results may vary.\n",
    "\n",
    "© Intel Corporation. Intel, the Intel logo, and other Intel marks are trademarks of Intel Corporation or its subsidiaries. \n",
    "*Other names and brands may be claimed as the property of others.\n"
   ]
  },
  {
   "cell_type": "code",
   "execution_count": null,
   "id": "119e9df2-06d8-4a6e-a4fd-2db86b50e894",
   "metadata": {},
   "outputs": [],
   "source": []
  }
 ],
 "metadata": {
  "kernelspec": {
   "display_name": "Python 3.7 (Intel® oneAPI)",
   "language": "python",
   "name": "c009-intel_distribution_of_python_3_oneapi-beta05-python"
  },
  "language_info": {
   "codemirror_mode": {
    "name": "ipython",
    "version": 3
   },
   "file_extension": ".py",
   "mimetype": "text/x-python",
   "name": "python",
   "nbconvert_exporter": "python",
   "pygments_lexer": "ipython3",
   "version": "3.7.11"
  }
 },
 "nbformat": 4,
 "nbformat_minor": 5
}
