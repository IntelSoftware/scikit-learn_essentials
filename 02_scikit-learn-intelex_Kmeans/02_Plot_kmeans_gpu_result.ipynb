{
 "cells": [
  {
   "cell_type": "markdown",
   "metadata": {},
   "source": [
    "# Kmeans Algorithm Using Intel® Extension for Scikit-learn*\n",
    "\n",
    "![Assets/kmeans.png](Assets/kmeans.png)"
   ]
  },
  {
   "cell_type": "markdown",
   "metadata": {
    "tags": []
   },
   "source": [
    "<a id='Back-to-Sections'></a>\n",
    "# Sections\n",
    "- _Discussion:_ [Kmeans Algorithm](#Kmeans-Algorithm)\n",
    "- _Code:_ [Implementation of Kmeans targeting CPU using Intel Extension for Scikit-learn for Kmeans interactive](#Implementation-of-Kmeans-in-Batch-mode)\n",
    "- _Code:_ [Implementation of Kmeans targeting **Distributed CPU** using Intel Extension for Scikit-learn for Kmeans](#Implementation-of-Kmeans-using-Distributed-Processing)\n",
    "- _Code:_ [Implementation of Kmeans targeting **GPU** using Intel Extension for Scikit-learn for Kmeans](#Implementation-of-Kmeans-targeting-GPU)\n",
    "\n",
    "You will review, modify and execute code for unsupervised clustering of data using Intel Extension for Scikit-learn for Kmeans and DBSCAN on a single CPU, single Gpu, and distributed across multiple CPU\n",
    "\n"
   ]
  },
  {
   "cell_type": "markdown",
   "metadata": {},
   "source": [
    "## Learning Objectives\n",
    "\n",
    "* Describe the value of Intel® Extension for Scikit-learn methodology in extending scikit-learn optimzation capabilites\n",
    "* Name key imports and function calls to use Intel Extension for Scikit-learn to target Kmeans for use on CPU, GPU and distributed CPU environments\n",
    "* Apply a single Daal4py function to enable Kmeans targeting CPU and GPU using SYCL context\n",
    "* Build a Sklearn implementation of Kmeans targeting CPU and GPU using Intel optimized Sklearn Extensions for Kmeans\n",
    "\n",
    "\n",
    "## Library Dependencies:\n",
    " - **pip install pickle**\n",
    " - also requires these libraries if they are not already installed: **matplotlib, numpy, pandas**"
   ]
  },
  {
   "cell_type": "markdown",
   "metadata": {
    "tags": []
   },
   "source": [
    "# Intel Extension for Scikit-learn\n",
    "\n",
    "Intel® Extension for Scikit-learn contains drop-in replacement patching functionality for the Scikit-learn machine learning library for Python. The patches were originally available in the daal4py package. All future updates for the patching will be available only in Intel Extension for Scikit-learn. All performance claims obtained using daal4py are applicable for Intel Extension for Scikit-learn.\n",
    "\n",
    "The value of the patch is providing optimized versions of common Scikit-learn machine learning algorithms used for data science. An added value is the ability to invoke these functions on either CPU or GPU.\n",
    "\n",
    "Applying Intel(R) Extension for Scikit-learn will impact the following existing [scikit-learn algorithms:](https://intel.github.io/scikit-learn-intelex/algorithms.html)\n",
    "\n",
    "You can take advantage of the optimizations of Intel Extension for Scikit-learn by adding just two lines of code before the usual Scikit-learn imports:\n",
    "\n",
    " - from sklearnex import patch_sklearn\n",
    " - patch_sklearn()\n",
    "\n",
    " - from sklearn.cluster import KMeans\n",
    " - ... import other sklearn algoritms as needed ...\n",
    "\n",
    "Intel Extension for Scikit-learn uses Intel® oneAPI Data Analytics Library (oneDAL) to achieve its acceleration. The optimizations aim for the efficient use of CPU resources. The library enables all the latest vector instructions, such as Intel® Advanced Vector Extensions (Intel AVX-512). It also uses cache-friendly data blocking, fast Basic Linear Algebra Subprograms (BLAS) operations with Intel OneAPI Math Kernel Library (oneMKL), scalable multi-threading with Intel oneAPI Thread Building Blocks (oneTBB) library, and more."
   ]
  },
  {
   "cell_type": "markdown",
   "metadata": {},
   "source": [
    "## Intel® oneAPI Data Analytics Library (oneDAL) aka daal4py\n",
    "As mentioned, Intel Extension for Scikit-learn uses Intel® oneAPI Data Analytics Library (oneDAL) under the hood to achieve its acceleration, and our general recommendation is to use Intel Extension for Scikit-learn whenever possible.  Most functionality found in Intel® oneAPI Data Analytics Library (oneDAL)  is exposed through the higher level interface, Intel Extension for Scikit-learn, and this is the preferred interface. However, there are a few funcctions found in Intel® oneAPI Data Analytics Library (oneDAL) not yet ported to Intel Extension for Scikit-learn so it is good to know how to leverage the functionality in either interface for now. For example, in the code below, we use daal4py to invoke the distributed compute mode for Kmeans.\n",
    "\n",
    "oneDAL has a Python API that is provided as a standalone Python library called daal4py.\n",
    "\n",
    "Daal4py, included in Intel® Distribution for Python* as part of the Intel® AI Analytics Toolkit, is an easy-to-use Python* API  that provides superior performance for your machine learning algorithms and frameworks. Designed for data scientists, it provides a simple way to utilize powerful Intel® DAAL machine learning algorithms in a flexible and customizable manner. For scaling capabilities, daal4py also provides you the option to process and analyze data via batch, streaming, or distributed processing modes, allowing you to choose the option to best fit your system's needs. \n",
    "\n",
    "The example below shows how daal4py can be used to calculate K-Means clusters:"
   ]
  },
  {
   "cell_type": "markdown",
   "metadata": {
    "tags": []
   },
   "source": [
    "# Kmeans Algorithm\n",
    "Kmeans is a clustering algorithm that partitions observations from a dataset into a requested number of geometric clusters of points closest to the cluster’s own center of mass. Using an initial estimate of the centroids, the algorithm iteratively updates the positions of the centroids until a fixed point.\n",
    "\n",
    "\n",
    "Kmeans is a simple and powerful ML algorithm to cluster data into similar groups. Its objective is to split a set of N observations into K clusters. This is achieved by minimizing inertia (i.e., the sum of squared Euclidian distances from observations to the cluster centers, or centroids). The algorithm is iterative, with two steps in each iteration:\n",
    "* For each observation, compute the distance from it to each centroid, and then reassign each observation to the cluster with the nearest centroid.\n",
    "* For each cluster, compute the centroid as the mean of observations assigned to this cluster.\n",
    "\n",
    "Repeat these steps until the number of iterations exceeds a predefined maximum or the algorithm converges (i.e., the difference between two consecutive inertias is less than a predefined threshold).\n",
    "Different methods are used to get initial centroids for the first iteration. The algorithm can select random observations as initial centroids or use more complex methods such as kmeans\n",
    "\n",
    "- [Back to Sections](#Back-to-Sections)\n",
    "\n",
    "### About the data\n",
    "The data included in these exercises was built seperately using the **sklearn.datasets make_blobs** function which synthesizes data for analysis by specifying: \n",
    " - The number of samples in the dataset called n_samples, for example n_sample = 200000\n",
    " - The number of columns in the dataset called n_features, for exmaple n_features = 50,\n",
    " - The number of cluster centers called centers, for example centers = 10, \n",
    " - The standard deviation for each cluster called cluster_std, for example cluster_std = 0.2,\n",
    " - The spatial range over which the clusters range, called center_box for example center_box = (-10.0, 10.0), \n",
    " - A seed called random_state, for example random_state = 777"
   ]
  },
  {
   "cell_type": "markdown",
   "metadata": {},
   "source": [
    "# Plot kmeans results as computed on GPU"
   ]
  },
  {
   "cell_type": "code",
   "execution_count": 1,
   "metadata": {},
   "outputs": [
    {
     "data": {
      "text/plain": [
       "{'y_km': KMeans(init='random', max_iter=5, n_clusters=20, random_state=0),\n",
       " 'pred_y': array([ 9, 13, 11, ..., 10,  5, 19], dtype=int32),\n",
       " 'kmeans.labels_': array([ 9, 13, 11, ..., 10,  5, 19], dtype=int32),\n",
       " 'kmeans.cluster_centers_': array([[ -17.750511  ,  -69.30062   ,  -37.097565  ,  -88.96761   ,\n",
       "          -80.66969   ,  -77.764206  ,    0.11633636,   58.215664  ,\n",
       "           10.4865465 ,   12.4954815 ,  -34.732445  ,   59.75621   ,\n",
       "           23.947205  ,   82.74827   ,  -44.53064   ,   61.583588  ,\n",
       "          -76.27908   ,  -53.863396  ,  -79.03343   ,   81.378654  ],\n",
       "        [ -63.518585  ,  -33.37247   ,   35.277004  ,   50.593636  ,\n",
       "          -59.25563   ,  -84.84836   ,  -36.419666  ,   50.813614  ,\n",
       "           22.489367  ,   74.70982   ,  -51.130062  ,  -12.329252  ,\n",
       "          -33.965942  ,  -97.86062   ,  -91.98184   ,   11.340166  ,\n",
       "           55.93818   ,  -83.022415  ,  -47.015156  ,   16.84881   ],\n",
       "        [  41.014454  ,    4.045502  ,   93.25139   ,   75.13196   ,\n",
       "           88.10027   ,  -56.136658  ,   -1.5627207 ,  -18.380383  ,\n",
       "           99.7181    ,  -27.252962  ,   33.063694  ,  -69.01116   ,\n",
       "          -41.943413  ,  -22.577164  ,   13.535116  ,   60.972404  ,\n",
       "           22.494537  ,  -18.811382  ,   10.244156  ,   73.848724  ],\n",
       "        [  94.5328    ,  -25.096981  ,   99.59746   ,  -73.169075  ,\n",
       "         -100.03427   ,   57.94455   ,   28.925425  ,   42.38408   ,\n",
       "          -30.735287  ,   31.413794  ,   36.331806  ,   -5.0603456 ,\n",
       "           65.34975   ,  -81.03239   ,  -30.133116  ,  -84.991554  ,\n",
       "           92.969765  ,   80.986115  ,   85.83509   ,   75.03834   ],\n",
       "        [  56.330914  ,   -9.742096  ,   23.723772  ,  -46.670467  ,\n",
       "           -3.9082298 ,    4.997137  ,  -81.76213   ,  -94.39513   ,\n",
       "          -18.71711   ,   57.24339   ,   14.743067  ,   58.137985  ,\n",
       "          -23.03161   ,  -23.967972  ,   50.469532  ,   84.13279   ,\n",
       "          -59.650238  ,   94.12211   ,  -82.97394   ,   23.970638  ],\n",
       "        [  46.964348  ,   53.593376  ,  -52.97374   ,  -39.79049   ,\n",
       "          -70.00141   ,   71.253716  ,  -47.509434  ,  -98.56755   ,\n",
       "          -61.58142   ,  -78.37351   ,  -76.407326  ,   52.974354  ,\n",
       "           54.360466  ,   93.5915    ,  -95.72062   ,  -13.518152  ,\n",
       "            7.9159074 ,   -0.31032532,  -87.49838   ,   -3.236778  ],\n",
       "        [  31.405188  ,   73.528404  ,  -51.049416  ,   -2.324535  ,\n",
       "          -48.781284  ,   37.33721   ,  -79.04878   ,   21.60452   ,\n",
       "          -57.64797   ,   28.842686  ,   81.71935   ,  -55.790398  ,\n",
       "          -32.768078  ,   49.720707  ,  -64.444145  ,   64.35025   ,\n",
       "           69.96489   ,  -52.85215   ,   -5.3677106 ,  -94.47888   ],\n",
       "        [  12.332972  ,  -22.693611  ,  -46.1604    ,   98.75143   ,\n",
       "          -95.54638   ,  -56.66814   ,   81.66646   ,   67.15241   ,\n",
       "          -37.226368  ,  -21.2272    ,   30.628006  ,  -95.056496  ,\n",
       "           32.971928  ,   -7.129587  ,  -67.178215  ,   87.49885   ,\n",
       "          -52.20485   ,   60.267323  ,  -46.668007  ,  -80.63399   ],\n",
       "        [ -46.97624   ,   22.556654  ,  -29.509958  ,   -6.4814854 ,\n",
       "           67.15967   ,  -92.79447   ,    3.0232363 ,   25.735228  ,\n",
       "           53.91921   ,   76.96877   ,  -20.039639  ,   -1.8027472 ,\n",
       "            5.9241323 ,   -9.402098  ,   94.06072   ,  -77.27372   ,\n",
       "           -6.066288  ,   65.0023    ,  -67.576866  ,   83.02074   ],\n",
       "        [  30.282318  ,   58.56264   ,   30.411428  ,   88.98349   ,\n",
       "           70.62692   ,   76.840775  ,  -85.821686  ,   -2.0401418 ,\n",
       "           16.205103  ,    4.174463  ,  -18.003443  ,  -82.367546  ,\n",
       "          -98.99318   ,   91.40906   ,  -37.387314  ,  -68.48844   ,\n",
       "           -3.3138096 ,    6.472903  ,  -96.363686  ,  -62.976894  ],\n",
       "        [  -0.65382415,   73.62472   ,  -60.380787  ,    8.740559  ,\n",
       "            0.58088917,  -95.541794  ,   25.895468  ,   56.856102  ,\n",
       "          -59.315926  ,   12.156931  ,  -24.910173  ,   99.267456  ,\n",
       "           83.59901   ,  -23.72082   ,  -43.849953  ,  -57.53576   ,\n",
       "           17.560658  ,   82.45146   ,   47.2349    ,  -96.28555   ],\n",
       "        [ -95.369965  ,    9.115329  ,   52.73876   ,   74.720406  ,\n",
       "           86.13752   ,  -24.87167   ,  -50.891834  ,  -70.78677   ,\n",
       "          -80.179924  ,  -92.82774   ,  -13.565635  ,   19.932364  ,\n",
       "           25.477005  ,   73.24922   ,  -92.36724   ,   45.542885  ,\n",
       "           77.246     ,  -93.5981    ,  -47.71166   ,   88.636925  ],\n",
       "        [   5.7202897 ,  -19.16683   ,  -69.81556   ,   97.01222   ,\n",
       "          -95.76392   ,  -58.277344  ,   82.71158   ,   77.73618   ,\n",
       "          -40.993374  ,  -22.885614  ,   29.935038  ,  -93.84748   ,\n",
       "           32.42458   ,   -6.8769436 ,  -65.68022   ,   87.593     ,\n",
       "          -79.46657   ,   59.36907   ,  -73.70111   ,  -87.33235   ],\n",
       "        [  20.758892  ,  -42.82354   ,   50.67197   ,   14.571254  ,\n",
       "           25.625906  ,   63.869785  ,  -35.936325  ,   19.185698  ,\n",
       "            9.449989  ,    4.7984457 ,   44.447407  ,    1.9010297 ,\n",
       "          -21.557455  ,    7.514751  ,   58.27151   ,  -68.10639   ,\n",
       "          -37.777462  ,  -39.654163  ,  -10.938163  ,   79.58768   ],\n",
       "        [  28.97183   ,  -71.84485   ,   34.375923  ,   62.069706  ,\n",
       "            2.2119777 ,   93.076294  ,   58.733044  ,  -73.293976  ,\n",
       "           95.827194  ,   69.44559   ,   35.528202  ,   64.2391    ,\n",
       "           -1.5881737 ,   46.364674  ,   80.272675  ,  -11.246555  ,\n",
       "          -55.860477  ,   11.1411085 ,  -39.508286  ,   47.386124  ],\n",
       "        [  98.381615  ,  -22.74559   ,  101.227196  ,  -70.045044  ,\n",
       "          -98.41616   ,   42.37753   ,   27.446072  ,   42.395573  ,\n",
       "          -31.639662  ,   31.832228  ,   36.251984  ,   -3.072629  ,\n",
       "           66.828514  ,  -80.22491   ,  -30.750633  ,  -87.90077   ,\n",
       "           88.34575   ,   81.61227   ,   86.14204   ,   28.295376  ],\n",
       "        [  32.04307   ,   45.386803  ,   32.12883   ,   53.489746  ,\n",
       "           62.406757  ,   -9.726603  ,   76.701584  ,  -60.1762    ,\n",
       "           22.41662   ,   65.177475  ,   52.35467   ,   88.574196  ,\n",
       "          -44.796257  ,   66.69634   ,  -20.481003  ,  -40.022     ,\n",
       "          -36.313034  ,  -10.47175   ,    6.032415  ,   -8.814208  ],\n",
       "        [  62.344448  ,  -27.571394  ,   97.3392    ,   47.10079   ,\n",
       "          -39.44755   ,  -18.951893  ,  -40.233223  ,  -59.48072   ,\n",
       "           69.41155   ,   77.49036   ,   20.375605  ,  -68.894165  ,\n",
       "           84.36439   ,   26.789711  ,   42.129387  ,   -6.786704  ,\n",
       "          -45.220886  ,   53.098186  ,   88.271904  ,   38.643394  ],\n",
       "        [  28.443605  ,   69.33789   ,  -19.093294  ,  -84.50789   ,\n",
       "          -62.735977  ,  -75.87033   ,   71.25662   ,   -3.2302253 ,\n",
       "           90.36193   ,   91.28315   ,   32.653885  ,   29.934725  ,\n",
       "           96.52567   ,  -49.022247  ,   19.994081  ,  -75.83325   ,\n",
       "           91.019196  ,  -19.009062  ,  -77.813286  ,  -49.776817  ],\n",
       "        [ -61.221996  ,   40.584984  ,  -63.98686   ,   46.716724  ,\n",
       "          -64.70046   ,   48.585365  ,   51.78676   ,   21.931038  ,\n",
       "           23.64972   ,  -57.77296   ,   56.548855  ,  -15.752266  ,\n",
       "           57.307068  ,   58.412285  ,  -13.3834915 ,    6.3925695 ,\n",
       "          -70.33996   ,  -39.980507  ,  -12.53185   ,  -80.90077   ]],\n",
       "       dtype=float32)}"
      ]
     },
     "execution_count": 1,
     "metadata": {},
     "output_type": "execute_result"
    }
   ],
   "source": [
    "import pickle\n",
    "def read_results():\n",
    "    f = open('resultsDict.pkl', 'rb')   # 'rb' for reading binary file\n",
    "    resultsDict = pickle.load(f)     \n",
    "    f.close()  \n",
    "    return(resultsDict)\n",
    "\n",
    "resultsDict = read_results()\n",
    "resultsDict"
   ]
  },
  {
   "cell_type": "code",
   "execution_count": 2,
   "metadata": {},
   "outputs": [
    {
     "data": {
      "image/png": "[encoded data removed]",
      "text/plain": [
       "<Figure size 432x288 with 1 Axes>"
      ]
     },
     "metadata": {
      "needs_background": "light"
     },
     "output_type": "display_data"
    }
   ],
   "source": [
    "import os\n",
    "import pandas as pd\n",
    "import numpy as np\n",
    "import matplotlib.pyplot as plt\n",
    "\n",
    "infile = os.path.join('data', 'batch', 'kmeans_dense.csv')\n",
    "# Load the data\n",
    "df = pd.read_csv(infile,  delimiter=',', usecols = range(20) , header=None, dtype=np.float32)\n",
    "X = df.to_numpy()\n",
    "\n",
    "pred_y = resultsDict['pred_y']\n",
    "cluster_centers_ =  resultsDict['kmeans.cluster_centers_']\n",
    "labels_ = resultsDict['kmeans.labels_']\n",
    "c1 = 9\n",
    "c2 = 19\n",
    "plt.title('kmeans cluster centers')\n",
    "plt.scatter(cluster_centers_[:, c1], cluster_centers_[:, c2], s=300, c='red')\n",
    "plt.grid()\n",
    "plt.show()"
   ]
  },
  {
   "cell_type": "markdown",
   "metadata": {},
   "source": [
    "## Summary\n",
    "In this module you will have learned the following:\n",
    "* Able to Describe Daal4py and Intel Extension for Scikit-learn methodology in extending scikit-learn optimzation capabilites\n",
    "* Able to Name key imports and function calls to use Intel Extension for Scikit-learn to target Kmeans for use on CPU, GPU and distributed CPU environments\n",
    "* Able to Apply a single Daal4py function to enable Kmeans targeting CPU and GPU using SYCL context\n",
    "* Able to Build a Sklearn implementation of Kmeans targeting CPU and GPU using Intel optimized Sklearn Extensions for Kmeans"
   ]
  },
  {
   "cell_type": "markdown",
   "metadata": {},
   "source": [
    "# Notices & Disclaimers \n",
    "\n",
    "Intel technologies may require enabled hardware, software or service activation.\n",
    "No product or component can be absolutely secure.\n",
    "\n",
    "Your costs and results may vary.\n",
    "\n",
    "© Intel Corporation. Intel, the Intel logo, and other Intel marks are trademarks of Intel Corporation or its subsidiaries. \n",
    "*Other names and brands may be claimed as the property of others."
   ]
  },
  {
   "cell_type": "code",
   "execution_count": 3,
   "metadata": {},
   "outputs": [],
   "source": [
    "import pandas as pd\n",
    "df = pd.read_csv('data/batch/kmeans_dense.csv')\n"
   ]
  },
  {
   "cell_type": "code",
   "execution_count": null,
   "metadata": {},
   "outputs": [],
   "source": []
  }
 ],
 "metadata": {
  "kernelspec": {
   "display_name": "Python 3",
   "language": "python",
   "name": "python3"
  },
  "language_info": {
   "codemirror_mode": {
    "name": "ipython",
    "version": 3
   },
   "file_extension": ".py",
   "mimetype": "text/x-python",
   "name": "python",
   "nbconvert_exporter": "python",
   "pygments_lexer": "ipython3",
   "version": "3.7.11"
  },
  "toc": {
   "base_numbering": 1,
   "nav_menu": {},
   "number_sections": true,
   "sideBar": true,
   "skip_h1_title": false,
   "title_cell": "Table of Contents",
   "title_sidebar": "Contents",
   "toc_cell": false,
   "toc_position": {
    "height": "525.6px",
    "left": "28px",
    "top": "137.8px",
    "width": "301.09px"
   },
   "toc_section_display": true,
   "toc_window_display": true
  },
  "widgets": {
   "application/vnd.jupyter.widget-state+json": {
    "state": {},
    "version_major": 2,
    "version_minor": 0
   }
  }
 },
 "nbformat": 4,
 "nbformat_minor": 4
}
