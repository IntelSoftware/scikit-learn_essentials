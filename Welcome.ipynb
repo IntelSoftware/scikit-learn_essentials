{
 "cells": [
  {
   "cell_type": "markdown",
   "metadata": {},
   "source": [
    "# Data Parallel Python (DPPY) Essentials Modules"
   ]
  },
  {
   "cell_type": "markdown",
   "metadata": {},
   "source": [
    "The concepts build on top of each other introducing and reinforcing the concepts of Intel(r) Extensions for scikit-learn, such as invoking a **SYCL device context**, and also applying the **sklearn_patch() function**. This course will also explore a subordinate library called daal4py.\n",
    "\n",
    "## Module 0 - [Introduction to Jupyter Notebook (Optional) ](00_Introduction_to_Jupyter/Introduction_to_Jupyter.ipynb)\n",
    "**`Optional`** This module explains how to use Jupyter Notebook which is used in all of the modules to edit and run coding excecises, this can be skipped if you are already familiar with using Jupyter Notebooks.\n",
    "\n",
    "## Module 1 - [01_scikit-learn-intelex_Intro](01_scikit-learn-intelex_Intro/01_scikit-learn-intelex_Intro.ipynb)\n",
    "These initial hands-on exercises introduce you to concepts of Intel(r) Extension for Scikit-learn. It will provide **basic code examples** for using sklearn algorithms which have have been optimzied in the Intel(r) Extensions for scikit-learn* or its subordinate library, daal4py. Explore simple approaches for invoking SYCL context against a multitude of sklearn algorithms: \n",
    "- **k_means_init_x**\n",
    "- **k_means_random**\n",
    "- **logistic_regression_lbfgs**\n",
    "- **logistic_regression_newton**\n",
    "- **dbscan**\n",
    "\n",
    "## Module 2 - [02_scikit-learn-intelex_Kmeans](02_scikit-learn-intelex_Kmeans/02_scikit-learn-intelex_Kmeans.ipynb)\n",
    "These hands-on exercises present how to use Data parallel Control (**dpCtl**) to manage different devices, usage of the classes and the functions of dpCtl as well as the underlying **sklearn-ex and daal4py**  libraries to specify a device context such as a gpu, or run the same code on a cpu, or target a simple distributed compute exmaple targeting multiple processes using a \"single program multiple data\", **spmd**, approach. The example will focus on just kmeans on a 9999 x 20 dense dataset.\n",
    "\n",
    "## Module 3 - [03_scikit-learn-intelex_Image_Cluster](03_scikit-learn-intelex_Image_Cluster/03_ImageClustering.ipynb)\n",
    "These hands-on exercises show how to build a more realistic example to perform image clustering by leveraging principal component analysis **(PCA), kmeans, and DBSCAN** all under the umbrella of a single gpu device context. Then the data will be plotted in a cpu context.\n",
    "\n",
    "## Module 4 - [04_scikit-learn-intelex-KNN-using_kdtree](04_scikit-learn-intelex-KNN-using_kdtree/04_AnalyzeGalaxyBatch.ipynb)\n",
    "These hands-on exercises show how to build a an application that tests **multiple classification algorithms and hyperparameters** within a single device context in an iterative approach. The data consist of two interescting synthesized galaxies having different galactic planes. One goal is to **classify the membership of each star** within its most likely galaxy using just a few percent of each galaxies stars as labels - and to do this using a variety of classifcation aglorithms.  A second goal is to **demonstrate the KDtree approach** to finding nearest neighbors or finding all sets of lying within 3 light years of another neighbor. See the exnteded version of the code below.\n",
    "\n",
    "An extended, more interactive, version of the above batch invocation that also includes KDTree is included here: [04_AnalyzeGalaxyScikit-learnClassificationIncludingKNNwKdtree](04_scikit-learn-intelex-KNN-using_kdtree/04_AnalyzeGalaxyScikit-learnClassificationIncludingKNNwKdtree.ipynb.ipynb)\n"
   ]
  },
  {
   "cell_type": "code",
   "execution_count": null,
   "metadata": {},
   "outputs": [],
   "source": []
  }
 ],
 "metadata": {
  "kernelspec": {
   "display_name": "Python 3",
   "language": "python",
   "name": "python3"
  },
  "language_info": {
   "codemirror_mode": {
    "name": "ipython",
    "version": 3
   },
   "file_extension": ".py",
   "mimetype": "text/x-python",
   "name": "python",
   "nbconvert_exporter": "python",
   "pygments_lexer": "ipython3",
   "version": "3.7.11"
  },
  "toc": {
   "base_numbering": 1,
   "nav_menu": {},
   "number_sections": true,
   "sideBar": true,
   "skip_h1_title": false,
   "title_cell": "Table of Contents",
   "title_sidebar": "Contents",
   "toc_cell": false,
   "toc_position": {
    "height": "calc(100% - 180px)",
    "left": "10px",
    "top": "150px",
    "width": "384.391px"
   },
   "toc_section_display": true,
   "toc_window_display": true
  },
  "widgets": {
   "application/vnd.jupyter.widget-state+json": {
    "state": {},
    "version_major": 2,
    "version_minor": 0
   }
  }
 },
 "nbformat": 4,
 "nbformat_minor": 4
}
