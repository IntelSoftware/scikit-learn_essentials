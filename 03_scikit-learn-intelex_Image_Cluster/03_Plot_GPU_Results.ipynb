{
 "cells": [
  {
   "cell_type": "markdown",
   "id": "2885082e-4f9c-4ec5-b625-98127bec528c",
   "metadata": {},
   "source": [
    "<a id='Read-the-results-of-the-dictionary-after-GPU-computation'></a>\n",
    "# Read the Results of the Dictionary After GPU Computation\n"
   ]
  },
  {
   "cell_type": "markdown",
   "id": "8ddd4d19-11bc-47ca-9754-935879b73722",
   "metadata": {},
   "source": [
    "## Library Dependencies:\n",
    "\n",
    " - **pip install pillow**\n",
    " - **pip install seaborn**\n",
    " - also requires these libraries if they are not already installed: **matplotlib, numpy, pandas, sklearn**"
   ]
  },
  {
   "cell_type": "code",
   "execution_count": null,
   "id": "cff1766c-502e-4545-bc63-09cea6c592d2",
   "metadata": {
    "ExecuteTime": {
     "end_time": "2021-10-06T03:36:04.778981Z",
     "start_time": "2021-10-06T03:36:04.716938Z"
    }
   },
   "outputs": [],
   "source": [
    "from lab.Read_Transform_Images import *\n",
    "# read results from json file in results folder\n",
    "resultsDict = read_results_json()\n",
    "# get list_PIL_Images from Read_Tansform_Images\n",
    "resultsDict = Read_Transform_Images(resultsDict)"
   ]
  },
  {
   "cell_type": "markdown",
   "id": "31cdf7e8-248d-4296-8baf-f04d6d8688f4",
   "metadata": {},
   "source": [
    "<a id='Plot-the-histogram-of-the-kmeans-clusters-using-GPU-results'></a>\n",
    "# Plot Kmeans Clusters \n",
    "\n",
    "Plot histogram of the using GPU results\n",
    "- _Code:_ [Back to Sections](#Sections)"
   ]
  },
  {
   "cell_type": "code",
   "execution_count": null,
   "id": "7c728567-d53a-4b71-8c85-62199e2e361f",
   "metadata": {
    "ExecuteTime": {
     "end_time": "2021-10-06T03:36:06.710515Z",
     "start_time": "2021-10-06T03:36:06.475484Z"
    }
   },
   "outputs": [],
   "source": [
    "#resultsDict = Compute_kmeans_db_histogram_labels(resultsDict, knee = 6, gpu_available = gpu_available) #knee = 5\n",
    "counts = np.asarray(resultsDict['counts'])\n",
    "bins = np.asarray(resultsDict['bins'])\n",
    "plt.xlabel(\"Weight\")\n",
    "plt.ylabel(\"Probability\")\n",
    "plt.title(\"Histogram with Probability Plot\")\n",
    "slice = min(counts.shape[0], bins.shape[0])\n",
    "plt.bar(bins[:slice],counts[:slice])\n",
    "plt.grid()\n",
    "plt.show()"
   ]
  },
  {
   "cell_type": "code",
   "execution_count": null,
   "id": "6cd9e133-8dd3-4eba-b41a-b025af616342",
   "metadata": {},
   "outputs": [],
   "source": [
    "print(resultsDict['bins'])\n",
    "print(resultsDict['counts'])\n",
    "resultsDict.keys()"
   ]
  },
  {
   "cell_type": "markdown",
   "id": "1328f60e-bcff-474a-ab5a-ee3af0c4ef6b",
   "metadata": {
    "tags": []
   },
   "source": [
    "# Display Similar Images\n",
    "\n",
    "Visually compare image which have been clustered by the allgorithm"
   ]
  },
  {
   "cell_type": "code",
   "execution_count": null,
   "id": "8deea7d2-5cd0-4f8d-b41b-898633096a2f",
   "metadata": {
    "ExecuteTime": {
     "end_time": "2021-10-06T03:36:10.547299Z",
     "start_time": "2021-10-06T03:36:06.712486Z"
    }
   },
   "outputs": [],
   "source": [
    "clusterRank = 1\n",
    "d = {i:cts for i, cts in enumerate(resultsDict['counts'])}\n",
    "sorted_d = sorted(d.items(), key=operator.itemgetter(1), reverse=True)\n",
    "\n",
    "id = sorted_d[clusterRank][0]\n",
    "indexCluster = np.where(np.asarray(resultsDict['km_labels']) == id  )[0].tolist()\n",
    "img_arr = []\n",
    "for idx in indexCluster:\n",
    "    img_arr.append(np.array((resultsDict['list_PIL_Images'][idx])))\n",
    "img_arr = np.asarray(img_arr)\n",
    "displayImageGrid(img_arr)"
   ]
  },
  {
   "cell_type": "markdown",
   "id": "6fa093e8-6251-455b-8505-482f9e02fd39",
   "metadata": {
    "ExecuteTime": {
     "end_time": "2021-10-06T03:36:10.594867Z",
     "start_time": "2021-10-06T03:36:10.549295Z"
    }
   },
   "source": [
    "# PlotPlot Seaborn KMEANS Clusters\n",
    "\n",
    "Indicates numbers of images that are close in color space"
   ]
  },
  {
   "cell_type": "code",
   "execution_count": null,
   "id": "a8659204-eed1-4067-985f-16057026125e",
   "metadata": {
    "ExecuteTime": {
     "end_time": "2021-10-06T03:36:17.302892Z",
     "start_time": "2021-10-06T03:36:10.596866Z"
    }
   },
   "outputs": [],
   "source": [
    "%matplotlib inline\n",
    "\n",
    "n_components = 4\n",
    "\n",
    "columns = ['PC{:0d}'.format(c) for c in range(n_components)]\n",
    "data = pd.DataFrame(np.asarray(resultsDict['PCA_fit_transform'])[:,:n_components], columns = columns)\n",
    "#k_means = resultsDict['model']\n",
    "data['cluster'] = resultsDict['km_labels']\n",
    "data.head()\n",
    "# similarlyNamedImages = [9,6,6,8,6,4,8,3]\n",
    "# print('number of similarly named images: ', similarlyNamedImages)\n",
    "\n",
    "columns.append('cluster')\n",
    "plt.figure(figsize=(8,8))\n",
    "\n",
    "sns.set_context('notebook');\n",
    "g = sns.pairplot(data[columns], hue=\"cluster\", palette=\"Paired\", diag_kws=dict(hue=None));\n",
    "g.fig.suptitle(\"KMEANS pairplot\");"
   ]
  },
  {
   "cell_type": "markdown",
   "id": "4b2506f0-a908-42e4-9ad3-24b7e5073f53",
   "metadata": {},
   "source": [
    "# Find DBSCAN EPS parameter\n",
    "\n",
    "Density-Based Spatial Clustering of Applications with Noise (DBSCAN) finds core samples of high density and expands clusters from them. Good for data which contains clusters of similar density.\n",
    "\n",
    "EPS: \"epsilon\" value in sklearn is the maximum distance between two samples for one to be considered as in the neighborhood of the other.\n",
    "\n",
    "At least a first value to start. We are using kNN to find distances commonly occuring in the dataset. Values of EPS below this threshold distance will be considered as lyig within a given cluster. This means we should look for long flat plateaus and read the y coordinate off the kNN plot to get a starting value for EPS.\n",
    "\n",
    "Different datasets can have wildly different sweet spots for EPS. Some datasets require EPS values of .001 other datasets may work best with values of EPS of several thousand. We use this trick to get in the right or approximate neighborhood of the EPS.\n"
   ]
  },
  {
   "cell_type": "code",
   "execution_count": null,
   "id": "56b28445-f4d4-43da-9ebe-6f9936d85da2",
   "metadata": {},
   "outputs": [],
   "source": [
    "from sklearn.neighbors import NearestNeighbors\n",
    "\n",
    "PCA_images = resultsDict['PCA_fit_transform']\n",
    "\n",
    "neighbors = NearestNeighbors(n_neighbors=2)\n",
    "#X = StandardScaler().fit_transform(PCA_images)\n",
    "neighbors_fit = neighbors.fit(PCA_images)\n",
    "distances, indices = neighbors_fit.kneighbors(PCA_images)\n",
    "\n",
    "distances = np.sort(distances, axis=0)\n",
    "plt.xlabel('number of images')\n",
    "plt.ylabel('distances')\n",
    "plt.title('KNN Distances Plot')\n",
    "plt.plot(distances[:,1])\n",
    "plt.grid()"
   ]
  },
  {
   "cell_type": "markdown",
   "id": "6721f848-aeb8-402c-b828-ac9a795ed274",
   "metadata": {},
   "source": [
    "# Use DBSCAN to find clusters\n",
    "\n",
    "we will use initial estiamtes from KNN above (find elbow) to given initial trial for DBSCAN EPS values \n",
    "\n",
    "In the plot above, there is a plateau in the y values somewherre near 350 indicating that a cluster distance (aka EPS) might work well somewhere near this value. We used this value in the batch_clustering_Streamlined.py file when computing DBSCAN.\n",
    "\n",
    "**EPS:** Two points are  neighbors if the distance between the two points is below a threshold.\n",
    "**n:** The minimum number of neighbors a given point should have in order to be classified as a core point. \n",
    "The point itself is included in the minimum number of samples.\n",
    "\n",
    "# Below: Sort DBSCAN Results by Cluster Size"
   ]
  },
  {
   "cell_type": "code",
   "execution_count": null,
   "id": "4285fc56-c971-4b2d-88e6-893bf02f36cc",
   "metadata": {},
   "outputs": [],
   "source": [
    "#%%write_and_run    lab/compute_DBSCANClusterRank.py \n",
    "def compute_DBSCANClusterRank(n, EPS):\n",
    "    d = {index-1:int(cnt) for index, cnt in enumerate(counts )}\n",
    "    sorted_d = sorted(d.items(), key=operator.itemgetter(1), reverse=True)\n",
    "    for i in range(0, len(d)):\n",
    "        idx = sorted_d[i][0]\n",
    "        print('cluster = ', idx, ' occurs', int(sorted_d[i][1]), ' times')\n",
    "    return db, counts, bins, sorted_d\n",
    "\n",
    "n_components = 4\n",
    "\n",
    "columns = ['PC{:0d}'.format(c) for c in range(n_components)]\n",
    "data = pd.DataFrame(np.asarray(resultsDict['PCA_fit_transform'])[:,:n_components], columns = columns)\n",
    "\n",
    "columns.append('cluster')\n",
    "data['cluster'] = resultsDict['db_labels'] \n",
    "data.head()"
   ]
  },
  {
   "cell_type": "markdown",
   "id": "f9d40945-a990-46a1-b50f-df9be9fad9d3",
   "metadata": {},
   "source": [
    "<a id='Plot-DBSCAN'></a>\n",
    "# DBSCAN Cluster Plot\n",
    "\n",
    "Plot a histogram of the using GPU results\n",
    "- _Code:_ [Back to Sections](#Sections)\n",
    "\n",
    " \n",
    "\n",
    "To indicate numbers of images in each cluster. color each point by its membership in a cluster"
   ]
  },
  {
   "cell_type": "code",
   "execution_count": null,
   "id": "7535d8d3-f429-47ac-8763-c2861a356509",
   "metadata": {},
   "outputs": [],
   "source": [
    "%matplotlib inline\n",
    "\n",
    "sns.set_context('notebook');\n",
    "g = sns.pairplot(data[columns], hue=\"cluster\", palette=\"Paired\", diag_kws=dict(hue=None));\n",
    "g.fig.suptitle(\"DBSCAN pairplot\");"
   ]
  },
  {
   "cell_type": "code",
   "execution_count": null,
   "id": "de2647b7-1e0c-4ea2-9d8b-d63c3df22d70",
   "metadata": {},
   "outputs": [],
   "source": [
    "data.columns"
   ]
  },
  {
   "cell_type": "markdown",
   "id": "083b4787-ce25-4921-98d5-715841b8ccaa",
   "metadata": {},
   "source": [
    "# Print Filenames of Outliers"
   ]
  },
  {
   "cell_type": "code",
   "execution_count": null,
   "id": "53bcbb8b-ea7a-4266-bb82-6a48182645cf",
   "metadata": {},
   "outputs": [],
   "source": [
    "print('Outlier/problematic images are: \\n', \n",
    "      [resultsDict['imagesFilenameList'][f] for f in list(data[data['cluster'] == -1].index)]\n",
    "     )"
   ]
  },
  {
   "cell_type": "markdown",
   "id": "cc651a77-56a2-47c1-9869-ca6a2453e4db",
   "metadata": {
    "tags": []
   },
   "source": [
    "# Final Thoughts and next steps...\n",
    "\n",
    "You may have noticed how difficult it is to get decent clustering on even 30 or 40 images using only RGB or HSV as the feature set. \n",
    "\n",
    "If all the images are well separated in either RGB, or HSV color space then these features are useful for clustering \n",
    "\n",
    "However, a suggested next step - or next training - would be to encode the data differently.  Perhaps using image classification with VGG16 but removing the last layer as a pre-process prior to k-means or DBSCAN\n"
   ]
  },
  {
   "cell_type": "markdown",
   "id": "f01d9c6c-7e79-4385-a173-d069afd977ad",
   "metadata": {},
   "source": [
    "# Notices & Disclaimers \n",
    "\n",
    "Intel technologies may require enabled hardware, software or service activation.\n",
    "No product or component can be absolutely secure.\n",
    "\n",
    "Your costs and results may vary.\n",
    "\n",
    "© Intel Corporation. Intel, the Intel logo, and other Intel marks are trademarks of Intel Corporation or its subsidiaries. \n",
    "*Other names and brands may be claimed as the property of others.\n",
    "\n"
   ]
  },
  {
   "cell_type": "code",
   "execution_count": null,
   "id": "b91f77a1-48c3-4284-aacf-dd4eae82945f",
   "metadata": {},
   "outputs": [],
   "source": []
  }
 ],
 "metadata": {
  "kernelspec": {
   "display_name": "Python 3",
   "language": "python",
   "name": "python3"
  },
  "language_info": {
   "codemirror_mode": {
    "name": "ipython",
    "version": 3
   },
   "file_extension": ".py",
   "mimetype": "text/x-python",
   "name": "python",
   "nbconvert_exporter": "python",
   "pygments_lexer": "ipython3",
   "version": "3.7.11"
  }
 },
 "nbformat": 4,
 "nbformat_minor": 5
}
